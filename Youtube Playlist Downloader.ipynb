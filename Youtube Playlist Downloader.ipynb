{
 "cells": [
  {
   "cell_type": "code",
   "execution_count": 1,
   "id": "1c0ac770",
   "metadata": {},
   "outputs": [
    {
     "name": "stdout",
     "output_type": "stream",
     "text": [
      "Collecting pytube\n",
      "  Downloading pytube-15.0.0-py3-none-any.whl (57 kB)\n",
      "     ---------------------------------------- 57.6/57.6 kB ? eta 0:00:00\n",
      "Installing collected packages: pytube\n",
      "Successfully installed pytube-15.0.0\n",
      "Note: you may need to restart the kernel to use updated packages.\n"
     ]
    },
    {
     "name": "stderr",
     "output_type": "stream",
     "text": [
      "WARNING: Ignoring invalid distribution -pencv-python-headless (c:\\users\\ravi\\appdata\\local\\programs\\python\\python310\\lib\\site-packages)\n",
      "WARNING: Ignoring invalid distribution -pencv-python-headless (c:\\users\\ravi\\appdata\\local\\programs\\python\\python310\\lib\\site-packages)\n",
      "\n",
      "[notice] A new release of pip is available: 23.1.2 -> 23.2\n",
      "[notice] To update, run: python.exe -m pip install --upgrade pip\n"
     ]
    }
   ],
   "source": [
    "pip install pytube\n"
   ]
  },
  {
   "cell_type": "code",
   "execution_count": null,
   "id": "1b1cb18a",
   "metadata": {},
   "outputs": [
    {
     "name": "stdout",
     "output_type": "stream",
     "text": [
      "Downloading 01 - Introduction to 2-D Arrays | Data Structures and Algorithms in JAVA\n"
     ]
    },
    {
     "name": "stderr",
     "output_type": "stream",
     "text": [
      "01 - Introduction to 2-D Arrays | Data Structures and Algorithms in JAVA (720p):"
     ]
    }
   ],
   "source": [
    "from pytube import Playlist, YouTube\n",
    "from tqdm import tqdm\n",
    "import os\n",
    "import requests\n",
    "import re\n",
    "\n",
    "def sanitize_filename(filename):\n",
    "    return re.sub(r'[<>:\"/\\\\|?*]', '_', filename)\n",
    "\n",
    "def download_playlist_videos(playlists, output_folder):\n",
    "    for playlist_url in playlists:\n",
    "        try:\n",
    "            # Create a Playlist object\n",
    "            playlist = Playlist(playlist_url)\n",
    "\n",
    "            # Get the name of the playlist to create a subdirectory inside the output folder\n",
    "            playlist_name = playlist.title\n",
    "            playlist_name = sanitize_filename(playlist_name)  # Sanitize the playlist title\n",
    "\n",
    "            # Create a directory inside the output folder with the name of the sanitized playlist\n",
    "            playlist_dir = os.path.join(output_folder, playlist_name)\n",
    "            os.makedirs(playlist_dir, exist_ok=True)\n",
    "\n",
    "            # Function to download video and show progress\n",
    "            def download_with_progress(video, output_path, index):\n",
    "                stream = video.streams.filter(progressive=True, file_extension='mp4').order_by('resolution').desc().first()\n",
    "                total_size = stream.filesize\n",
    "                bytes_downloaded = 0\n",
    "\n",
    "                with requests.get(stream.url, stream=True) as response:\n",
    "                    response.raise_for_status()\n",
    "                    with open(output_path, 'wb') as output_file:\n",
    "                        with tqdm(total=total_size, unit='B', unit_scale=True, \n",
    "                                  desc=f\"{index:02d} - {video.title} ({stream.resolution})\", ncols=80) as pbar:\n",
    "                            for chunk in response.iter_content(chunk_size=8192):\n",
    "                                output_file.write(chunk)\n",
    "                                bytes_downloaded += len(chunk)\n",
    "                                pbar.update(len(chunk))\n",
    "\n",
    "            # Download each video in the playlist\n",
    "            for index, video_url in enumerate(playlist.video_urls, start=1):\n",
    "                # Create a Video object\n",
    "                video = YouTube(video_url)\n",
    "\n",
    "                # Print the title of the video being downloaded\n",
    "                print(f\"Downloading {index:02d} - {video.title}\")\n",
    "\n",
    "                # Prepare the output path for the video\n",
    "                video_filename = video.streams.filter(progressive=True, file_extension='mp4').order_by('resolution').desc().first().default_filename\n",
    "                output_path = os.path.join(playlist_dir, f\"{index:02d} - {sanitize_filename(video_filename)}\")\n",
    "\n",
    "                # Download the video with progress tracking\n",
    "                download_with_progress(video, output_path, index)\n",
    "\n",
    "                # Print a message after successful download\n",
    "                print(f\"Download {index:02d} - {video.title} complete.\")\n",
    "\n",
    "        except Exception as e:\n",
    "            print(f\"Error downloading {playlist_url}: {str(e)}\")\n",
    "\n",
    "# Example usage:\n",
    "if __name__ == \"__main__\":\n",
    "    playlists = [\n",
    "        \"https://www.youtube.com/playlist?list=PL-Jc9J83PIiFkOETg2Ybq-FMuJjkZSGeH\",\n",
    "        \"https://www.youtube.com/playlist?list=PL-Jc9J83PIiHq5rMZasunIR19QG3E-PAA\"\n",
    "        # Add more playlist URLs if needed\n",
    "    ]\n",
    "\n",
    "    output_folder = \"output\"\n",
    "    download_playlist_videos(playlists, output_folder)\n"
   ]
  },
  {
   "cell_type": "code",
   "execution_count": null,
   "id": "5ef0cf44",
   "metadata": {},
   "outputs": [],
   "source": []
  }
 ],
 "metadata": {
  "kernelspec": {
   "display_name": "Python 3 (ipykernel)",
   "language": "python",
   "name": "python3"
  },
  "language_info": {
   "codemirror_mode": {
    "name": "ipython",
    "version": 3
   },
   "file_extension": ".py",
   "mimetype": "text/x-python",
   "name": "python",
   "nbconvert_exporter": "python",
   "pygments_lexer": "ipython3",
   "version": "3.10.5"
  }
 },
 "nbformat": 4,
 "nbformat_minor": 5
}
